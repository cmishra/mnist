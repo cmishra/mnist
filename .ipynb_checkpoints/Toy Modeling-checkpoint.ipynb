{
 "cells": [
  {
   "cell_type": "code",
   "execution_count": 3,
   "metadata": {
    "collapsed": false
   },
   "outputs": [
    {
     "data": {
      "text/plain": [
       "<matplotlib.image.AxesImage at 0x7fca77b77b70>"
      ]
     },
     "execution_count": 3,
     "metadata": {},
     "output_type": "execute_result"
    },
    {
     "data": {
      "image/png": "[encoded data removed]",
      "text/plain": [
       "<matplotlib.figure.Figure at 0x7fca77c19550>"
      ]
     },
     "metadata": {},
     "output_type": "display_data"
    }
   ],
   "source": [
    "from keras.datasets import mnist\n",
    "from keras.utils import np_utils\n",
    "from PIL import Image\n",
    "from matplotlib import pyplot as plt\n",
    "import matplotlib.cm as cm \n",
    "import numpy as np\n",
    "\n",
    "%matplotlib inline\n",
    "(x_train, y_train), (x_test, y_test) = mnist.load_data()\n",
    "num_classes = len(np.unique(y_test))\n",
    "y_train = np_utils.to_categorical(y_train, num_classes)\n",
    "y_test = np_utils.to_categorical(y_test, num_classes)\n",
    "img = Image.fromarray(x_train[2], 'L')\n",
    "plt.imshow(x_train[2], cmap=cm.Greys_r)\n"
   ]
  },
  {
   "cell_type": "code",
   "execution_count": 4,
   "metadata": {
    "collapsed": false
   },
   "outputs": [
    {
     "name": "stdout",
     "output_type": "stream",
     "text": [
      "(60000, 784)\n",
      "(60000, 50)\n",
      "(60000, 50)\n",
      "(60000, 10)\n"
     ]
    },
    {
     "name": "stderr",
     "output_type": "stream",
     "text": [
      "Using Theano backend.\n"
     ]
    }
   ],
   "source": [
    "from keras.models import Sequential\n",
    "from keras.layers import Dense, Flatten\n",
    "\n",
    "init_scheme = 'he_normal'\n",
    "model = Sequential()\n",
    "model.add(Flatten(input_shape=((28,28))))\n",
    "model.add(Dense(50, input_dim=28*28, activation='relu', init=init_scheme))\n",
    "model.add(Dense(50, activation='relu', init=init_scheme))\n",
    "model.add(Dense(10, activation='softmax', init=init_scheme))\n",
    "\n",
    "# make sure internal shape is right\n",
    "from source import get_activations\n",
    "for i in range(len(model.layers)):\n",
    "    print(get_activations(model, i, x_train).shape)\n",
    "\n",
    "model.compile(loss='categorical_crossentropy', optimizer='rmsprop')\n"
   ]
  },
  {
   "cell_type": "code",
   "execution_count": 5,
   "metadata": {
    "collapsed": false,
    "scrolled": true
   },
   "outputs": [],
   "source": [
    "# Model without normalization\n",
    "num_epoches = 100\n",
    "num_sample = 20\n",
    "hist = model.fit(x_train[:num_sample], y_train[:num_sample], \n",
    "                 batch_size=256, \n",
    "                 nb_epoch=num_epoches, \n",
    "                 show_accuracy=True, \n",
    "                 verbose=0, \n",
    "                 validation_split=0.2)\n"
   ]
  },
  {
   "cell_type": "code",
   "execution_count": 12,
   "metadata": {
    "collapsed": false
   },
   "outputs": [
    {
     "ename": "NameError",
     "evalue": "name 'plot_performances' is not defined",
     "output_type": "error",
     "traceback": [
      "\u001b[1;31m---------------------------------------------------------------------------\u001b[0m",
      "\u001b[1;31mNameError\u001b[0m                                 Traceback (most recent call last)",
      "\u001b[1;32m<ipython-input-12-813d186adf68>\u001b[0m in \u001b[0;36m<module>\u001b[1;34m()\u001b[0m\n\u001b[0;32m     12\u001b[0m \u001b[1;31m# print(hist2.history)\u001b[0m\u001b[1;33m\u001b[0m\u001b[1;33m\u001b[0m\u001b[0m\n\u001b[0;32m     13\u001b[0m \u001b[1;33m\u001b[0m\u001b[0m\n\u001b[1;32m---> 14\u001b[1;33m \u001b[0mplot_performances\u001b[0m\u001b[1;33m(\u001b[0m\u001b[0mhist\u001b[0m\u001b[1;33m,\u001b[0m \u001b[0mhist2\u001b[0m\u001b[1;33m,\u001b[0m \u001b[1;34m'acc'\u001b[0m\u001b[1;33m)\u001b[0m\u001b[1;33m\u001b[0m\u001b[0m\n\u001b[0m\u001b[0;32m     15\u001b[0m \u001b[1;33m\u001b[0m\u001b[0m\n\u001b[0;32m     16\u001b[0m \u001b[0mplt\u001b[0m\u001b[1;33m.\u001b[0m\u001b[0mplot\u001b[0m\u001b[1;33m(\u001b[0m\u001b[0mnp\u001b[0m\u001b[1;33m.\u001b[0m\u001b[0marange\u001b[0m\u001b[1;33m(\u001b[0m\u001b[0mnum_epoches\u001b[0m\u001b[1;33m)\u001b[0m\u001b[1;33m,\u001b[0m \u001b[0mhist2\u001b[0m\u001b[1;33m.\u001b[0m\u001b[0mhistory\u001b[0m\u001b[1;33m[\u001b[0m\u001b[1;34m'val_acc'\u001b[0m\u001b[1;33m]\u001b[0m\u001b[1;33m,\u001b[0m \u001b[0mlabel\u001b[0m\u001b[1;33m=\u001b[0m\u001b[1;34m'normalized'\u001b[0m\u001b[1;33m,\u001b[0m \u001b[0mcolor\u001b[0m\u001b[1;33m=\u001b[0m\u001b[1;34m'red'\u001b[0m\u001b[1;33m)\u001b[0m\u001b[1;33m\u001b[0m\u001b[0m\n",
      "\u001b[1;31mNameError\u001b[0m: name 'plot_performances' is not defined"
     ]
    }
   ],
   "source": [
    "from source import DataNormalizer, plot_performance\n",
    "import os\n",
    "\n",
    "normalizer = DataNormalizer()\n",
    "normalizer.fit(x_train[:num_sample])\n",
    "x_train_transformed = normalizer.transform(x_train[:num_sample])\n",
    "\n",
    "hist2 = model.fit(x_train_transformed, y_train[:num_sample], \n",
    "                    batch_size=256, nb_epoch=num_epoches, verbose=0,\n",
    "                 validation_split=0.2,\n",
    "                 show_accuracy=True)\n",
    "# print(hist2.history)\n",
    "\n",
    "plot_performance(hist, hist2, 'acc')\n",
    "\n",
    "plt.plot(np.arange(num_epoches), hist2.history['val_acc'], label='normalized', color='red')\n",
    "plt.plot(np.arange(num_epoches), hist2.history['acc'], label='normalized', color='orange')\n"
   ]
  },
  {
   "cell_type": "code",
   "execution_count": null,
   "metadata": {
    "collapsed": true
   },
   "outputs": [],
   "source": []
  }
 ],
 "metadata": {
  "kernelspec": {
   "display_name": "Python 3",
   "language": "python",
   "name": "python3"
  },
  "language_info": {
   "codemirror_mode": {
    "name": "ipython",
    "version": 3
   },
   "file_extension": ".py",
   "mimetype": "text/x-python",
   "name": "python",
   "nbconvert_exporter": "python",
   "pygments_lexer": "ipython3",
   "version": "3.4.3"
  }
 },
 "nbformat": 4,
 "nbformat_minor": 0
}
